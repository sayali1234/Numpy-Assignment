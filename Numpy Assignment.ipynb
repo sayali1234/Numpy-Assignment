{
 "cells": [
  {
   "cell_type": "code",
   "execution_count": null,
   "id": "51e1425d-5937-4147-940b-55e9290bf0aa",
   "metadata": {},
   "outputs": [],
   "source": [
    "Consider the below code to answer further questions:\n",
    "import numpy as np\n",
    "list_ = [ ‘1’ , ’2’ , ‘3’ , ‘4’ , ‘5’ ]\n",
    "array_list = np.array(object = list_)"
   ]
  },
  {
   "cell_type": "markdown",
   "id": "f15d2b3c-2d7f-409a-8dbf-2f6e9999f84f",
   "metadata": {},
   "source": [
    "Q1) Is there any difference in the data type of variables list_ and array_list? If there is then write a code\n",
    "to print the data types of both the variables."
   ]
  },
  {
   "cell_type": "code",
   "execution_count": null,
   "id": "11f15fd8-59c3-4d4d-87ac-162652d9defb",
   "metadata": {},
   "outputs": [],
   "source": [
    "Yes, there is a difference in the data type of the variables list_ and array_list.\n",
    "\n",
    "list_ is a Python list that contains string objects, while array_list is a NumPy array that also contains string objects. However, the data type of the objects in\n",
    "array_list is different from the data type of objects in list_.\n",
    "\n",
    "The objects in list_ are of type str, while the objects in array_list are of type numpy.str_.\n",
    "\n",
    "Here is the code to print the data types of both the variables:"
   ]
  },
  {
   "cell_type": "code",
   "execution_count": 2,
   "id": "8a55dc84-872b-456f-9806-76a0957bfede",
   "metadata": {},
   "outputs": [
    {
     "name": "stdout",
     "output_type": "stream",
     "text": [
      "Data type of list_: <class 'list'>\n",
      "Data type of data in list_: <class 'str'>\n",
      "Data type of array_list: <class 'numpy.ndarray'>\n",
      "Data type of data in  array_list: <class 'numpy.str_'>\n"
     ]
    }
   ],
   "source": [
    "import numpy as np\n",
    "\n",
    "list_ = ['1', '2', '3', '4', '5']\n",
    "array_list = np.array(object=list_)\n",
    "\n",
    "print(\"Data type of list_:\", type(list_))\n",
    "print(\"Data type of data in list_:\", type(list_[0]))\n",
    "print(\"Data type of array_list:\", type(array_list))\n",
    "print(\"Data type of data in  array_list:\", type(array_list[0]))"
   ]
  },
  {
   "cell_type": "markdown",
   "id": "37626637-f761-47de-8203-94579b7e7251",
   "metadata": {},
   "source": [
    "Q2) Write a code to print the data type of each and every element of both the variables list_ and\n",
    "arra_list."
   ]
  },
  {
   "cell_type": "code",
   "execution_count": 3,
   "id": "b9db9f8c-405f-4b75-be8f-c2009c7760c0",
   "metadata": {},
   "outputs": [
    {
     "name": "stdout",
     "output_type": "stream",
     "text": [
      "Data type of 1 in _list is <class 'str'>\n",
      "Data type of 2 in _list is <class 'str'>\n",
      "Data type of 3 in _list is <class 'str'>\n",
      "Data type of 4 in _list is <class 'str'>\n",
      "Data type of 5 in _list is <class 'str'>\n",
      "\n",
      "Data type of 1 in array_list is <class 'numpy.str_'>\n",
      "Data type of 2 in array_list is <class 'numpy.str_'>\n",
      "Data type of 3 in array_list is <class 'numpy.str_'>\n",
      "Data type of 4 in array_list is <class 'numpy.str_'>\n",
      "Data type of 5 in array_list is <class 'numpy.str_'>\n"
     ]
    }
   ],
   "source": [
    "import numpy as np\n",
    "\n",
    "list_ = ['1', '2', '3', '4', '5']\n",
    "array_list = np.array(object=list_)\n",
    "\n",
    "#Printing data types of all element in list_\n",
    "for ele in list_:\n",
    "    print(f\"Data type of {ele} in _list is {type(ele)}\")\n",
    "    \n",
    "print()\n",
    "\n",
    "#Printing data types of all element in array_list\n",
    "for ele in array_list:\n",
    "     print(f\"Data type of {ele} in array_list is {type(ele)}\")"
   ]
  },
  {
   "cell_type": "markdown",
   "id": "786b6e24-8f7e-40ff-baf3-68b22beb5b14",
   "metadata": {},
   "source": [
    "Q3) Considering the following changes in the variable, array_list:\n",
    "array_list = np.array(object = list_, dtype = int)\n",
    "Will there be any difference in the data type of the elements present in both the variables, list_ and\n",
    "arra_list? If so then print the data types of each and every element present in both the variables, list_\n",
    "and arra_list.\n",
    "Consider the below code to answer further questions:\n",
    "import numpy as np\n",
    "num_list = [ [ 1 , 2 , 3 ] , [ 4 , 5 , 6 ] ]\n",
    "num_array = np.array(object = num_list)"
   ]
  },
  {
   "cell_type": "code",
   "execution_count": null,
   "id": "c345ba12-2ad5-4739-a9f8-b13452371595",
   "metadata": {},
   "outputs": [],
   "source": [
    "Yes, there will be a difference in the data type of the elements present in the variables list_ and array_list.\n",
    "\n",
    "The dtype=int parameter in np.array(object=list_, dtype=int) specifies that the data type of the elements in the resulting NumPy array should be integers. Since\n",
    "the input sequence (list_) contains strings, NumPy will try to convert each string element to an integer. If any element in the input sequence cannot be converted\n",
    "to an integer, a ValueError will be raised.\n",
    "\n",
    "Here is the code to print the data types of each and every element present in both the variables, list_ and array_list after the change:"
   ]
  },
  {
   "cell_type": "code",
   "execution_count": 4,
   "id": "16ddef68-324a-4c68-bfcf-fdda349f24d9",
   "metadata": {},
   "outputs": [
    {
     "name": "stdout",
     "output_type": "stream",
     "text": [
      "Data type of 1 in _list is <class 'str'>\n",
      "Data type of 2 in _list is <class 'str'>\n",
      "Data type of 3 in _list is <class 'str'>\n",
      "Data type of 4 in _list is <class 'str'>\n",
      "Data type of 5 in _list is <class 'str'>\n",
      "\n",
      "Data type of 1 in array_list is <class 'numpy.int64'>\n",
      "Data type of 2 in array_list is <class 'numpy.int64'>\n",
      "Data type of 3 in array_list is <class 'numpy.int64'>\n",
      "Data type of 4 in array_list is <class 'numpy.int64'>\n",
      "Data type of 5 in array_list is <class 'numpy.int64'>\n"
     ]
    }
   ],
   "source": [
    "import numpy as np\n",
    "\n",
    "list_ = ['1', '2', '3', '4', '5']\n",
    "array_list = np.array(object = list_, dtype = int)\n",
    "\n",
    "#Printing data types of all element in list_\n",
    "for ele in list_:\n",
    "    print(f\"Data type of {ele} in _list is {type(ele)}\")\n",
    "    \n",
    "print()\n",
    "\n",
    "#Printing data types of all element in array_list\n",
    "for ele in array_list:\n",
    "     print(f\"Data type of {ele} in array_list is {type(ele)}\")"
   ]
  },
  {
   "cell_type": "code",
   "execution_count": null,
   "id": "2f52e3ee-c92d-4e9d-b064-80892b095520",
   "metadata": {},
   "outputs": [],
   "source": [
    "As you can see, the elements in list_ are of type str, while the elements in array_list are of type numpy.int64 after the conversion."
   ]
  },
  {
   "cell_type": "markdown",
   "id": "373c9aa9-a4bf-404f-9fd1-eabc34478782",
   "metadata": {},
   "source": [
    "Q4) Write a code to find the following characteristics of variable, num_array:\n",
    "(i) shape\n",
    "(ii) size"
   ]
  },
  {
   "cell_type": "code",
   "execution_count": null,
   "id": "dcf944ee-a071-4b39-88d2-ee5e0965df96",
   "metadata": {},
   "outputs": [],
   "source": [
    "Here's the code to find the shape and size of the NumPy array num_array"
   ]
  },
  {
   "cell_type": "code",
   "execution_count": 5,
   "id": "c3b0642d-befd-4d5c-b9af-4c0701ee8b28",
   "metadata": {},
   "outputs": [
    {
     "name": "stdout",
     "output_type": "stream",
     "text": [
      "Shape of num_array: (2, 3)\n",
      "Size of num_array: 6\n"
     ]
    }
   ],
   "source": [
    "import numpy as np\n",
    "\n",
    "num_list = [[1, 2, 3], [4, 5, 6]]\n",
    "num_array = np.array(object=num_list)\n",
    "\n",
    "# Find the shape of num_array\n",
    "print(\"Shape of num_array:\", num_array.shape)\n",
    "\n",
    "# Find the size of num_array\n",
    "print(\"Size of num_array:\", num_array.size)"
   ]
  },
  {
   "cell_type": "code",
   "execution_count": null,
   "id": "d636bcd5-fcbd-43ed-99c0-7ef823ffa23e",
   "metadata": {},
   "outputs": [],
   "source": [
    "As you can see, the shape of num_array is (2, 3), which means it has 2 rows and 3 columns. The size of num_array is 6, which is the total number of elements in \n",
    "the array."
   ]
  },
  {
   "cell_type": "markdown",
   "id": "a5e36cf5-2aba-4ba1-bda3-148528f3064c",
   "metadata": {},
   "source": [
    "Q5) Write a code to create numpy array of 3*3 matrix containing zeros only, using a numpy array\n",
    "creation function.\n",
    "[Hint: The size of the array will be 9 and the shape will be (3,3).]"
   ]
  },
  {
   "cell_type": "code",
   "execution_count": null,
   "id": "e2b8bcb6-1978-44dd-97b4-30545b9360b2",
   "metadata": {},
   "outputs": [],
   "source": [
    "Here's the code to create a NumPy array of 3x3 matrix containing zeros only:"
   ]
  },
  {
   "cell_type": "code",
   "execution_count": 6,
   "id": "fcdb5295-6f7e-432b-b94e-42a274723c56",
   "metadata": {},
   "outputs": [
    {
     "name": "stdout",
     "output_type": "stream",
     "text": [
      "[[0. 0. 0.]\n",
      " [0. 0. 0.]\n",
      " [0. 0. 0.]]\n"
     ]
    }
   ],
   "source": [
    "import numpy as np\n",
    "\n",
    "# Create a NumPy array of 3x3 matrix containing zeros only\n",
    "zeros_array = np.zeros((3, 3))\n",
    "\n",
    "# Print the array\n",
    "print(zeros_array)"
   ]
  },
  {
   "cell_type": "code",
   "execution_count": null,
   "id": "f2e0591e-c064-4f95-bd08-ba238f009927",
   "metadata": {},
   "outputs": [],
   "source": [
    "The np.zeros((3, 3)) function creates a NumPy array of shape (3, 3) and fills it with zeros."
   ]
  },
  {
   "cell_type": "markdown",
   "id": "15ca7ab0-4c76-4424-9caf-69dd7346395f",
   "metadata": {},
   "source": [
    "Q6) Create an identity matrix of shape (5,5) using numpy functions?\n",
    "[Hint: An identity matrix is a matrix containing 1 diagonally and other elements will be 0.]"
   ]
  },
  {
   "cell_type": "code",
   "execution_count": null,
   "id": "0b77fbc5-46d7-49d5-abd8-f88d292a5a90",
   "metadata": {},
   "outputs": [],
   "source": [
    "Here's the code to create an identity matrix of shape (5, 5) using NumPy functions:"
   ]
  },
  {
   "cell_type": "code",
   "execution_count": 7,
   "id": "f3db2cfb-263b-444f-8b0b-d2881b0a2b2e",
   "metadata": {},
   "outputs": [
    {
     "name": "stdout",
     "output_type": "stream",
     "text": [
      "[[1. 0. 0. 0. 0.]\n",
      " [0. 1. 0. 0. 0.]\n",
      " [0. 0. 1. 0. 0.]\n",
      " [0. 0. 0. 1. 0.]\n",
      " [0. 0. 0. 0. 1.]]\n"
     ]
    }
   ],
   "source": [
    "import numpy as np\n",
    "\n",
    "# Create an identity matrix of shape (5, 5)\n",
    "identity_matrix = np.eye(5)\n",
    "\n",
    "# Print the matrix\n",
    "print(identity_matrix)"
   ]
  },
  {
   "cell_type": "code",
   "execution_count": null,
   "id": "65835714-31b5-4060-b858-c7de40dc8015",
   "metadata": {},
   "outputs": [],
   "source": []
  }
 ],
 "metadata": {
  "kernelspec": {
   "display_name": "Python 3 (ipykernel)",
   "language": "python",
   "name": "python3"
  },
  "language_info": {
   "codemirror_mode": {
    "name": "ipython",
    "version": 3
   },
   "file_extension": ".py",
   "mimetype": "text/x-python",
   "name": "python",
   "nbconvert_exporter": "python",
   "pygments_lexer": "ipython3",
   "version": "3.10.8"
  }
 },
 "nbformat": 4,
 "nbformat_minor": 5
}
